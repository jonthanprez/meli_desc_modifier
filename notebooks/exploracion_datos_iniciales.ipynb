{
 "cells": [
  {
   "cell_type": "code",
   "execution_count": 1,
   "id": "0866948e",
   "metadata": {},
   "outputs": [],
   "source": [
    "import sys\n",
    "from pathlib import Path\n",
    "\n",
    "ROOT_DIR = Path().resolve().parent\n",
    "SRC_DIR = ROOT_DIR / \"src\"\n",
    "\n",
    "if str(SRC_DIR) not in sys.path:\n",
    "    sys.path.insert(0, str(SRC_DIR))\n",
    "\n",
    "from etl.extract import cargar_excel\n",
    "from config.settings import MORAL_RAW\n",
    "from validator import validar_columnas_extract, validar_columnas_transform\n",
    "from etl.transform import transformar_descripciones\n",
    "\n"
   ]
  },
  {
   "cell_type": "code",
   "execution_count": null,
   "id": "d6e99c59",
   "metadata": {},
   "outputs": [],
   "source": [
    "df = cargar_excel(MORAL_RAW)\n",
    "validar_columnas_extract(df)\n",
    "validar_columnas_transform(df)"
   ]
  },
  {
   "cell_type": "code",
   "execution_count": null,
   "id": "c07e2062",
   "metadata": {},
   "outputs": [],
   "source": [
    "df_prueba = df.sample(10, random_state=None).copy()\n",
    "df_transformado = transformar_descripciones(df_prueba)\n",
    "\n",
    "for i, (_, fila) in enumerate(df_transformado.iterrows()):\n",
    "    print(f\"\\n--- Descripción aleatoria {i+1} ---\\n\")\n",
    "    print(fila['Descripcion'])"
   ]
  }
 ],
 "metadata": {
  "kernelspec": {
   "display_name": ".venv",
   "language": "python",
   "name": "python3"
  },
  "language_info": {
   "codemirror_mode": {
    "name": "ipython",
    "version": 3
   },
   "file_extension": ".py",
   "mimetype": "text/x-python",
   "name": "python",
   "nbconvert_exporter": "python",
   "pygments_lexer": "ipython3",
   "version": "3.12.3"
  }
 },
 "nbformat": 4,
 "nbformat_minor": 5
}
